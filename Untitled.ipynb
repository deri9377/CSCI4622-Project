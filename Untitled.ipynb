{
 "cells": [
  {
   "cell_type": "code",
   "execution_count": 16,
   "id": "c7f98860",
   "metadata": {},
   "outputs": [],
   "source": [
    "import math\n",
    "import numpy as np\n",
    "import pandas as pd\n",
    "from sklearn.metrics import accuracy_score\n",
    "from sklearn.preprocessing import normalize\n",
    "from sklearn.datasets import load_iris\n",
    "from sklearn.linear_model import LogisticRegression\n",
    "from sklearn.datasets import load_iris\n",
    "from sklearn.model_selection import train_test_split\n",
    "from sklearn.naive_bayes import MultinomialNB\n",
    "from sklearn.neural_network import MLPClassifier\n",
    "from sklearn.tree import DecisionTreeClassifier"
   ]
  },
  {
   "cell_type": "code",
   "execution_count": 2,
   "id": "5db5c416",
   "metadata": {},
   "outputs": [],
   "source": [
    "df = pd.read_json('new_data/data.json')\n",
    "w = []\n",
    "b = []\n",
    "for i in df['moves'].tolist():\n",
    "    if not len(i) > 2:\n",
    "        w.append(0)\n",
    "        b.append(0)\n",
    "    else:\n",
    "        w.append(i[0])\n",
    "        b.append(i[1])\n",
    "\n",
    "df['w'] = pd.DataFrame(w)\n",
    "df['b'] = pd.DataFrame(b)\n",
    "X_raw = df.loc[:,['WhiteElo', 'BlackElo','w','TimeControl']].to_numpy()\n",
    "y_raw = df.loc[:, 'Result'].to_numpy()\n",
    "for i in X_raw:\n",
    "    i[3] = int(i[3].split('+')[0])"
   ]
  },
  {
   "cell_type": "code",
   "execution_count": 3,
   "id": "aeaa1472",
   "metadata": {},
   "outputs": [],
   "source": [
    "def threshold_features(features, elo_threshold, time_threshold):\n",
    "    \"\"\"\n",
    "    Transform age and salary to binary\n",
    "    :param features: data array of shape (m, n_features) where features[:,0] for age, features[:,1} for salary\n",
    "    :param age_threshold: used to \"binarize\" the data, 1 if age > age_threshold and 0 otherwise\n",
    "    :param salary_threshold: used to \"binarize\" the data, 1 if salary > salary_threshold and 0 otherwise\n",
    "    :return: binary features matrix\n",
    "    \"\"\"\n",
    "    binary_features = features * 1  #This row just creates a \"hard copy\" of the X array so we can manipulate it as needed\n",
    "\n",
    "    # Workspace 3.1\n",
    "    #BEGIN \n",
    "    w_moves = ['e4', 'd4', 'Nf3', 'c4', 'g3', 'b3']\n",
    "    draw_moves = ['']\n",
    "    for i in binary_features:\n",
    "        # Elo\n",
    "        if i[0] < i[1]:\n",
    "            i[0] = 1\n",
    "            i[1] = 1\n",
    "        else:\n",
    "            i[0] = 0\n",
    "            i[1] = 0\n",
    "            \n",
    "        #Move\n",
    "        if i[2] in w_moves:\n",
    "            i[2] = 0\n",
    "        else: \n",
    "            i[2] = 1\n",
    "            \n",
    "        # Time\n",
    "        if i[3] > time_threshold:\n",
    "            i[3] = 0\n",
    "        else:\n",
    "            i[3] = 1\n",
    "        \n",
    "    #END\n",
    "\n",
    "    return binary_features\n",
    "\n",
    "def result_features(features):\n",
    "    binary_features = features * 1\n",
    "    \n",
    "    for i in range(len(binary_features)):\n",
    "        if binary_features[i] == '1-0':\n",
    "            binary_features[i] = 0\n",
    "        elif binary_features[i] == '0-1':\n",
    "            binary_features[i] = 1\n",
    "        else:\n",
    "            binary_features[i] = 2\n",
    "            \n",
    "    return binary_features"
   ]
  },
  {
   "cell_type": "code",
   "execution_count": 4,
   "id": "a2edbda6",
   "metadata": {},
   "outputs": [],
   "source": [
    "X = normalize(threshold_features(X_raw, 100, 900))\n",
    "y = result_features(y_raw).astype('int')"
   ]
  },
  {
   "cell_type": "code",
   "execution_count": 5,
   "id": "d091ab29",
   "metadata": {},
   "outputs": [
    {
     "name": "stdout",
     "output_type": "stream",
     "text": [
      "0.6268917345750873\n"
     ]
    }
   ],
   "source": [
    "gnb = MultinomialNB()\n",
    "X_train, X_test, y_train, y_test = train_test_split(X, y, test_size=0.2, random_state=0)\n",
    "y_pred = gnb.fit(X_train, y_train).predict(X_test)   \n",
    "print(accuracy_score(y_pred, y_test))"
   ]
  },
  {
   "cell_type": "code",
   "execution_count": 6,
   "id": "bf85b6c1",
   "metadata": {},
   "outputs": [
    {
     "name": "stdout",
     "output_type": "stream",
     "text": [
      "900 0.6268917345750873\n"
     ]
    }
   ],
   "source": [
    "accuracy = 0\n",
    "best_l_elo = 0\n",
    "best_h_elo = 0\n",
    "best_time = 0\n",
    "for k in range(0, 1500, 50):\n",
    "    X = normalize(threshold_features(X_raw, 50, k))\n",
    "    gnb = MultinomialNB()\n",
    "    X_train, X_test, y_train, y_test = train_test_split(X, y, test_size=0.2, random_state=0)\n",
    "    y_pred = gnb.fit(X_train, y_train).predict(X_test)\n",
    "    new_acc = accuracy_score(y_pred, y_test)\n",
    "    if new_acc > accuracy:\n",
    "        accuracy = new_acc\n",
    "        best_time = k\n",
    "                \n",
    "print(best_time, accuracy)"
   ]
  },
  {
   "cell_type": "code",
   "execution_count": 7,
   "id": "9b2e6e82",
   "metadata": {},
   "outputs": [],
   "source": [
    "# Using a binary Naive Bayes learning model resulted in decent results but could be impoved greatly"
   ]
  },
  {
   "cell_type": "code",
   "execution_count": 8,
   "id": "c2e3ad46",
   "metadata": {},
   "outputs": [],
   "source": [
    "def convert_to_numbers(data):\n",
    "    \n",
    "    new_data = data * 1\n",
    "    \n",
    "    for i in new_data:\n",
    "        if isinstance(i[2], str):\n",
    "            s = 0\n",
    "            for x in i[2]:\n",
    "                s += ord(x) - 49\n",
    "\n",
    "            i[2] = s\n",
    "            \n",
    "    for i in new_data:\n",
    "        if isinstance(i[2], str):\n",
    "            print(string)\n",
    "        \n",
    "    return new_data"
   ]
  },
  {
   "cell_type": "code",
   "execution_count": 9,
   "id": "7d082193",
   "metadata": {},
   "outputs": [
    {
     "name": "stdout",
     "output_type": "stream",
     "text": [
      "0.6680900621118012\n"
     ]
    }
   ],
   "source": [
    "X = convert_to_numbers(X_raw)\n",
    "y = result_features(y_raw).astype('int')\n",
    "X_train, X_test, y_train, y_test = train_test_split(X, y, test_size=0.6, random_state=0)\n",
    "\n",
    "clf = LogisticRegression(random_state=0).fit(X_train, y_train)\n",
    "pred = clf.predict(X_test)\n",
    "print(accuracy_score(pred, y_test))"
   ]
  },
  {
   "cell_type": "code",
   "execution_count": 10,
   "id": "e678caf5",
   "metadata": {},
   "outputs": [
    {
     "name": "stdout",
     "output_type": "stream",
     "text": [
      "8586\n"
     ]
    }
   ],
   "source": [
    "# also running into issues with low accuracy, thinking it might be because of data set size, only using 8500 games\n",
    "print(len(X))"
   ]
  },
  {
   "cell_type": "code",
   "execution_count": 26,
   "id": "540bde12",
   "metadata": {},
   "outputs": [
    {
     "name": "stdout",
     "output_type": "stream",
     "text": [
      "0.6522245515956208\n"
     ]
    }
   ],
   "source": [
    "clf = MLPClassifier()\n",
    "X = normalize(convert_to_numbers(X_raw))\n",
    "y = result_features(y_raw).astype('int')\n",
    "X_train, X_test, y_train, y_test = train_test_split(X, y, test_size=0.5, random_state=0)\n",
    "clf.fit(X_train, y_train)\n",
    "pred = clf.predict(X_test)    \n",
    "print(accuracy_score(pred, y_test))"
   ]
  },
  {
   "cell_type": "code",
   "execution_count": 35,
   "id": "1dabcabf",
   "metadata": {},
   "outputs": [
    {
     "name": "stdout",
     "output_type": "stream",
     "text": [
      "0 0.6380153738644304\n"
     ]
    }
   ],
   "source": [
    "#trying Decision Tree Classifier as they are better with threshold data sets\n",
    "best_time = 0\n",
    "accuracy = 0\n",
    "for k in range(0, 5400, 50):\n",
    "    clf = DecisionTreeClassifier()\n",
    "    X = normalize(threshold_features(X_raw, 100, 5340))\n",
    "    y = result_features(y_raw).astype('int')\n",
    "    X_train, X_test, y_train, y_test = train_test_split(X, y, test_size=0.5, random_state=0)\n",
    "    clf.fit(X_train, y_train)\n",
    "    pred = clf.predict(X_test)    \n",
    "    accuracy = accuracy_score(pred, y_test)\n",
    "    if new_acc > accuracy:\n",
    "        accuracy = new_acc\n",
    "        best_time = k\n",
    "        \n",
    "print(best_time, accuracy)"
   ]
  },
  {
   "cell_type": "code",
   "execution_count": 34,
   "id": "09ecc750",
   "metadata": {},
   "outputs": [
    {
     "name": "stdout",
     "output_type": "stream",
     "text": [
      "0.6380153738644304\n"
     ]
    }
   ],
   "source": [
    "clf = DecisionTreeClassifier()\n",
    "X = normalize(threshold_features(X_raw, 100, 5350))\n",
    "y = result_features(y_raw).astype('int')\n",
    "X_train, X_test, y_train, y_test = train_test_split(X, y, test_size=0.5, random_state=0)\n",
    "clf.fit(X_train, y_train)\n",
    "pred = clf.predict(X_test)    \n",
    "accuracy = accuracy_score(pred, y_test)\n",
    "print(accuracy)"
   ]
  },
  {
   "cell_type": "code",
   "execution_count": null,
   "id": "7551fd50",
   "metadata": {},
   "outputs": [],
   "source": []
  }
 ],
 "metadata": {
  "kernelspec": {
   "display_name": "Python 3 (ipykernel)",
   "language": "python",
   "name": "python3"
  },
  "language_info": {
   "codemirror_mode": {
    "name": "ipython",
    "version": 3
   },
   "file_extension": ".py",
   "mimetype": "text/x-python",
   "name": "python",
   "nbconvert_exporter": "python",
   "pygments_lexer": "ipython3",
   "version": "3.9.7"
  }
 },
 "nbformat": 4,
 "nbformat_minor": 5
}
